{
 "cells": [
  {
   "cell_type": "code",
   "execution_count": 368,
   "metadata": {},
   "outputs": [],
   "source": [
    "import pandas as pd\n",
    "import numpy as np\n",
    "import matplotlib.pyplot as plt\n",
    "%matplotlib inline\n",
    "\n",
    "from bokeh.models import ColumnDataSource, GeoJSONDataSource \n",
    "from bokeh.plotting import figure, show, output_notebook\n",
    "\n",
    "from sklearn.tree import DecisionTreeRegressor\n",
    "data_train = pd.read_csv('train.csv')"
   ]
  },
  {
   "cell_type": "code",
   "execution_count": 369,
   "metadata": {},
   "outputs": [],
   "source": [
    "dummies = pd.get_dummies(data_train['Sex'])\n",
    "data_train['Female'] = dummies['female']\n",
    "data_train['Male'] = dummies['male']"
   ]
  },
  {
   "cell_type": "code",
   "execution_count": 370,
   "metadata": {},
   "outputs": [
    {
     "data": {
      "text/html": [
       "\n",
       "    <div class=\"bk-root\">\n",
       "        <a href=\"https://bokeh.pydata.org\" target=\"_blank\" class=\"bk-logo bk-logo-small bk-logo-notebook\"></a>\n",
       "        <span id=\"2cdd8b80-b4e4-4860-b1bb-45f46a58565c\">Loading BokehJS ...</span>\n",
       "    </div>"
      ]
     },
     "metadata": {},
     "output_type": "display_data"
    },
    {
     "data": {
      "application/javascript": [
       "\n",
       "(function(root) {\n",
       "  function now() {\n",
       "    return new Date();\n",
       "  }\n",
       "\n",
       "  var force = true;\n",
       "\n",
       "  if (typeof (root._bokeh_onload_callbacks) === \"undefined\" || force === true) {\n",
       "    root._bokeh_onload_callbacks = [];\n",
       "    root._bokeh_is_loading = undefined;\n",
       "  }\n",
       "\n",
       "  var JS_MIME_TYPE = 'application/javascript';\n",
       "  var HTML_MIME_TYPE = 'text/html';\n",
       "  var EXEC_MIME_TYPE = 'application/vnd.bokehjs_exec.v0+json';\n",
       "  var CLASS_NAME = 'output_bokeh rendered_html';\n",
       "\n",
       "  /**\n",
       "   * Render data to the DOM node\n",
       "   */\n",
       "  function render(props, node) {\n",
       "    var script = document.createElement(\"script\");\n",
       "    node.appendChild(script);\n",
       "  }\n",
       "\n",
       "  /**\n",
       "   * Handle when an output is cleared or removed\n",
       "   */\n",
       "  function handleClearOutput(event, handle) {\n",
       "    var cell = handle.cell;\n",
       "\n",
       "    var id = cell.output_area._bokeh_element_id;\n",
       "    var server_id = cell.output_area._bokeh_server_id;\n",
       "    // Clean up Bokeh references\n",
       "    if (id != null && id in Bokeh.index) {\n",
       "      Bokeh.index[id].model.document.clear();\n",
       "      delete Bokeh.index[id];\n",
       "    }\n",
       "\n",
       "    if (server_id !== undefined) {\n",
       "      // Clean up Bokeh references\n",
       "      var cmd = \"from bokeh.io.state import curstate; print(curstate().uuid_to_server['\" + server_id + \"'].get_sessions()[0].document.roots[0]._id)\";\n",
       "      cell.notebook.kernel.execute(cmd, {\n",
       "        iopub: {\n",
       "          output: function(msg) {\n",
       "            var id = msg.content.text.trim();\n",
       "            if (id in Bokeh.index) {\n",
       "              Bokeh.index[id].model.document.clear();\n",
       "              delete Bokeh.index[id];\n",
       "            }\n",
       "          }\n",
       "        }\n",
       "      });\n",
       "      // Destroy server and session\n",
       "      var cmd = \"import bokeh.io.notebook as ion; ion.destroy_server('\" + server_id + \"')\";\n",
       "      cell.notebook.kernel.execute(cmd);\n",
       "    }\n",
       "  }\n",
       "\n",
       "  /**\n",
       "   * Handle when a new output is added\n",
       "   */\n",
       "  function handleAddOutput(event, handle) {\n",
       "    var output_area = handle.output_area;\n",
       "    var output = handle.output;\n",
       "\n",
       "    // limit handleAddOutput to display_data with EXEC_MIME_TYPE content only\n",
       "    if ((output.output_type != \"display_data\") || (!output.data.hasOwnProperty(EXEC_MIME_TYPE))) {\n",
       "      return\n",
       "    }\n",
       "\n",
       "    var toinsert = output_area.element.find(\".\" + CLASS_NAME.split(' ')[0]);\n",
       "\n",
       "    if (output.metadata[EXEC_MIME_TYPE][\"id\"] !== undefined) {\n",
       "      toinsert[toinsert.length - 1].firstChild.textContent = output.data[JS_MIME_TYPE];\n",
       "      // store reference to embed id on output_area\n",
       "      output_area._bokeh_element_id = output.metadata[EXEC_MIME_TYPE][\"id\"];\n",
       "    }\n",
       "    if (output.metadata[EXEC_MIME_TYPE][\"server_id\"] !== undefined) {\n",
       "      var bk_div = document.createElement(\"div\");\n",
       "      bk_div.innerHTML = output.data[HTML_MIME_TYPE];\n",
       "      var script_attrs = bk_div.children[0].attributes;\n",
       "      for (var i = 0; i < script_attrs.length; i++) {\n",
       "        toinsert[toinsert.length - 1].firstChild.setAttribute(script_attrs[i].name, script_attrs[i].value);\n",
       "      }\n",
       "      // store reference to server id on output_area\n",
       "      output_area._bokeh_server_id = output.metadata[EXEC_MIME_TYPE][\"server_id\"];\n",
       "    }\n",
       "  }\n",
       "\n",
       "  function register_renderer(events, OutputArea) {\n",
       "\n",
       "    function append_mime(data, metadata, element) {\n",
       "      // create a DOM node to render to\n",
       "      var toinsert = this.create_output_subarea(\n",
       "        metadata,\n",
       "        CLASS_NAME,\n",
       "        EXEC_MIME_TYPE\n",
       "      );\n",
       "      this.keyboard_manager.register_events(toinsert);\n",
       "      // Render to node\n",
       "      var props = {data: data, metadata: metadata[EXEC_MIME_TYPE]};\n",
       "      render(props, toinsert[toinsert.length - 1]);\n",
       "      element.append(toinsert);\n",
       "      return toinsert\n",
       "    }\n",
       "\n",
       "    /* Handle when an output is cleared or removed */\n",
       "    events.on('clear_output.CodeCell', handleClearOutput);\n",
       "    events.on('delete.Cell', handleClearOutput);\n",
       "\n",
       "    /* Handle when a new output is added */\n",
       "    events.on('output_added.OutputArea', handleAddOutput);\n",
       "\n",
       "    /**\n",
       "     * Register the mime type and append_mime function with output_area\n",
       "     */\n",
       "    OutputArea.prototype.register_mime_type(EXEC_MIME_TYPE, append_mime, {\n",
       "      /* Is output safe? */\n",
       "      safe: true,\n",
       "      /* Index of renderer in `output_area.display_order` */\n",
       "      index: 0\n",
       "    });\n",
       "  }\n",
       "\n",
       "  // register the mime type if in Jupyter Notebook environment and previously unregistered\n",
       "  if (root.Jupyter !== undefined) {\n",
       "    var events = require('base/js/events');\n",
       "    var OutputArea = require('notebook/js/outputarea').OutputArea;\n",
       "\n",
       "    if (OutputArea.prototype.mime_types().indexOf(EXEC_MIME_TYPE) == -1) {\n",
       "      register_renderer(events, OutputArea);\n",
       "    }\n",
       "  }\n",
       "\n",
       "  \n",
       "  if (typeof (root._bokeh_timeout) === \"undefined\" || force === true) {\n",
       "    root._bokeh_timeout = Date.now() + 5000;\n",
       "    root._bokeh_failed_load = false;\n",
       "  }\n",
       "\n",
       "  var NB_LOAD_WARNING = {'data': {'text/html':\n",
       "     \"<div style='background-color: #fdd'>\\n\"+\n",
       "     \"<p>\\n\"+\n",
       "     \"BokehJS does not appear to have successfully loaded. If loading BokehJS from CDN, this \\n\"+\n",
       "     \"may be due to a slow or bad network connection. Possible fixes:\\n\"+\n",
       "     \"</p>\\n\"+\n",
       "     \"<ul>\\n\"+\n",
       "     \"<li>re-rerun `output_notebook()` to attempt to load from CDN again, or</li>\\n\"+\n",
       "     \"<li>use INLINE resources instead, as so:</li>\\n\"+\n",
       "     \"</ul>\\n\"+\n",
       "     \"<code>\\n\"+\n",
       "     \"from bokeh.resources import INLINE\\n\"+\n",
       "     \"output_notebook(resources=INLINE)\\n\"+\n",
       "     \"</code>\\n\"+\n",
       "     \"</div>\"}};\n",
       "\n",
       "  function display_loaded() {\n",
       "    var el = document.getElementById(\"2cdd8b80-b4e4-4860-b1bb-45f46a58565c\");\n",
       "    if (el != null) {\n",
       "      el.textContent = \"BokehJS is loading...\";\n",
       "    }\n",
       "    if (root.Bokeh !== undefined) {\n",
       "      if (el != null) {\n",
       "        el.textContent = \"BokehJS \" + root.Bokeh.version + \" successfully loaded.\";\n",
       "      }\n",
       "    } else if (Date.now() < root._bokeh_timeout) {\n",
       "      setTimeout(display_loaded, 100)\n",
       "    }\n",
       "  }\n",
       "\n",
       "\n",
       "  function run_callbacks() {\n",
       "    try {\n",
       "      root._bokeh_onload_callbacks.forEach(function(callback) { callback() });\n",
       "    }\n",
       "    finally {\n",
       "      delete root._bokeh_onload_callbacks\n",
       "    }\n",
       "    console.info(\"Bokeh: all callbacks have finished\");\n",
       "  }\n",
       "\n",
       "  function load_libs(js_urls, callback) {\n",
       "    root._bokeh_onload_callbacks.push(callback);\n",
       "    if (root._bokeh_is_loading > 0) {\n",
       "      console.log(\"Bokeh: BokehJS is being loaded, scheduling callback at\", now());\n",
       "      return null;\n",
       "    }\n",
       "    if (js_urls == null || js_urls.length === 0) {\n",
       "      run_callbacks();\n",
       "      return null;\n",
       "    }\n",
       "    console.log(\"Bokeh: BokehJS not loaded, scheduling load and callback at\", now());\n",
       "    root._bokeh_is_loading = js_urls.length;\n",
       "    for (var i = 0; i < js_urls.length; i++) {\n",
       "      var url = js_urls[i];\n",
       "      var s = document.createElement('script');\n",
       "      s.src = url;\n",
       "      s.async = false;\n",
       "      s.onreadystatechange = s.onload = function() {\n",
       "        root._bokeh_is_loading--;\n",
       "        if (root._bokeh_is_loading === 0) {\n",
       "          console.log(\"Bokeh: all BokehJS libraries loaded\");\n",
       "          run_callbacks()\n",
       "        }\n",
       "      };\n",
       "      s.onerror = function() {\n",
       "        console.warn(\"failed to load library \" + url);\n",
       "      };\n",
       "      console.log(\"Bokeh: injecting script tag for BokehJS library: \", url);\n",
       "      document.getElementsByTagName(\"head\")[0].appendChild(s);\n",
       "    }\n",
       "  };var element = document.getElementById(\"2cdd8b80-b4e4-4860-b1bb-45f46a58565c\");\n",
       "  if (element == null) {\n",
       "    console.log(\"Bokeh: ERROR: autoload.js configured with elementid '2cdd8b80-b4e4-4860-b1bb-45f46a58565c' but no matching script tag was found. \")\n",
       "    return false;\n",
       "  }\n",
       "\n",
       "  var js_urls = [\"https://cdn.pydata.org/bokeh/release/bokeh-0.13.0.min.js\", \"https://cdn.pydata.org/bokeh/release/bokeh-widgets-0.13.0.min.js\", \"https://cdn.pydata.org/bokeh/release/bokeh-tables-0.13.0.min.js\", \"https://cdn.pydata.org/bokeh/release/bokeh-gl-0.13.0.min.js\"];\n",
       "\n",
       "  var inline_js = [\n",
       "    function(Bokeh) {\n",
       "      Bokeh.set_log_level(\"info\");\n",
       "    },\n",
       "    \n",
       "    function(Bokeh) {\n",
       "      \n",
       "    },\n",
       "    function(Bokeh) {\n",
       "      console.log(\"Bokeh: injecting CSS: https://cdn.pydata.org/bokeh/release/bokeh-0.13.0.min.css\");\n",
       "      Bokeh.embed.inject_css(\"https://cdn.pydata.org/bokeh/release/bokeh-0.13.0.min.css\");\n",
       "      console.log(\"Bokeh: injecting CSS: https://cdn.pydata.org/bokeh/release/bokeh-widgets-0.13.0.min.css\");\n",
       "      Bokeh.embed.inject_css(\"https://cdn.pydata.org/bokeh/release/bokeh-widgets-0.13.0.min.css\");\n",
       "      console.log(\"Bokeh: injecting CSS: https://cdn.pydata.org/bokeh/release/bokeh-tables-0.13.0.min.css\");\n",
       "      Bokeh.embed.inject_css(\"https://cdn.pydata.org/bokeh/release/bokeh-tables-0.13.0.min.css\");\n",
       "    }\n",
       "  ];\n",
       "\n",
       "  function run_inline_js() {\n",
       "    \n",
       "    if ((root.Bokeh !== undefined) || (force === true)) {\n",
       "      for (var i = 0; i < inline_js.length; i++) {\n",
       "        inline_js[i].call(root, root.Bokeh);\n",
       "      }if (force === true) {\n",
       "        display_loaded();\n",
       "      }} else if (Date.now() < root._bokeh_timeout) {\n",
       "      setTimeout(run_inline_js, 100);\n",
       "    } else if (!root._bokeh_failed_load) {\n",
       "      console.log(\"Bokeh: BokehJS failed to load within specified timeout.\");\n",
       "      root._bokeh_failed_load = true;\n",
       "    } else if (force !== true) {\n",
       "      var cell = $(document.getElementById(\"2cdd8b80-b4e4-4860-b1bb-45f46a58565c\")).parents('.cell').data().cell;\n",
       "      cell.output_area.append_execute_result(NB_LOAD_WARNING)\n",
       "    }\n",
       "\n",
       "  }\n",
       "\n",
       "  if (root._bokeh_is_loading === 0) {\n",
       "    console.log(\"Bokeh: BokehJS loaded, going straight to plotting\");\n",
       "    run_inline_js();\n",
       "  } else {\n",
       "    load_libs(js_urls, function() {\n",
       "      console.log(\"Bokeh: BokehJS plotting callback run at\", now());\n",
       "      run_inline_js();\n",
       "    });\n",
       "  }\n",
       "}(window));"
      ],
      "application/vnd.bokehjs_load.v0+json": "\n(function(root) {\n  function now() {\n    return new Date();\n  }\n\n  var force = true;\n\n  if (typeof (root._bokeh_onload_callbacks) === \"undefined\" || force === true) {\n    root._bokeh_onload_callbacks = [];\n    root._bokeh_is_loading = undefined;\n  }\n\n  \n\n  \n  if (typeof (root._bokeh_timeout) === \"undefined\" || force === true) {\n    root._bokeh_timeout = Date.now() + 5000;\n    root._bokeh_failed_load = false;\n  }\n\n  var NB_LOAD_WARNING = {'data': {'text/html':\n     \"<div style='background-color: #fdd'>\\n\"+\n     \"<p>\\n\"+\n     \"BokehJS does not appear to have successfully loaded. If loading BokehJS from CDN, this \\n\"+\n     \"may be due to a slow or bad network connection. Possible fixes:\\n\"+\n     \"</p>\\n\"+\n     \"<ul>\\n\"+\n     \"<li>re-rerun `output_notebook()` to attempt to load from CDN again, or</li>\\n\"+\n     \"<li>use INLINE resources instead, as so:</li>\\n\"+\n     \"</ul>\\n\"+\n     \"<code>\\n\"+\n     \"from bokeh.resources import INLINE\\n\"+\n     \"output_notebook(resources=INLINE)\\n\"+\n     \"</code>\\n\"+\n     \"</div>\"}};\n\n  function display_loaded() {\n    var el = document.getElementById(\"2cdd8b80-b4e4-4860-b1bb-45f46a58565c\");\n    if (el != null) {\n      el.textContent = \"BokehJS is loading...\";\n    }\n    if (root.Bokeh !== undefined) {\n      if (el != null) {\n        el.textContent = \"BokehJS \" + root.Bokeh.version + \" successfully loaded.\";\n      }\n    } else if (Date.now() < root._bokeh_timeout) {\n      setTimeout(display_loaded, 100)\n    }\n  }\n\n\n  function run_callbacks() {\n    try {\n      root._bokeh_onload_callbacks.forEach(function(callback) { callback() });\n    }\n    finally {\n      delete root._bokeh_onload_callbacks\n    }\n    console.info(\"Bokeh: all callbacks have finished\");\n  }\n\n  function load_libs(js_urls, callback) {\n    root._bokeh_onload_callbacks.push(callback);\n    if (root._bokeh_is_loading > 0) {\n      console.log(\"Bokeh: BokehJS is being loaded, scheduling callback at\", now());\n      return null;\n    }\n    if (js_urls == null || js_urls.length === 0) {\n      run_callbacks();\n      return null;\n    }\n    console.log(\"Bokeh: BokehJS not loaded, scheduling load and callback at\", now());\n    root._bokeh_is_loading = js_urls.length;\n    for (var i = 0; i < js_urls.length; i++) {\n      var url = js_urls[i];\n      var s = document.createElement('script');\n      s.src = url;\n      s.async = false;\n      s.onreadystatechange = s.onload = function() {\n        root._bokeh_is_loading--;\n        if (root._bokeh_is_loading === 0) {\n          console.log(\"Bokeh: all BokehJS libraries loaded\");\n          run_callbacks()\n        }\n      };\n      s.onerror = function() {\n        console.warn(\"failed to load library \" + url);\n      };\n      console.log(\"Bokeh: injecting script tag for BokehJS library: \", url);\n      document.getElementsByTagName(\"head\")[0].appendChild(s);\n    }\n  };var element = document.getElementById(\"2cdd8b80-b4e4-4860-b1bb-45f46a58565c\");\n  if (element == null) {\n    console.log(\"Bokeh: ERROR: autoload.js configured with elementid '2cdd8b80-b4e4-4860-b1bb-45f46a58565c' but no matching script tag was found. \")\n    return false;\n  }\n\n  var js_urls = [\"https://cdn.pydata.org/bokeh/release/bokeh-0.13.0.min.js\", \"https://cdn.pydata.org/bokeh/release/bokeh-widgets-0.13.0.min.js\", \"https://cdn.pydata.org/bokeh/release/bokeh-tables-0.13.0.min.js\", \"https://cdn.pydata.org/bokeh/release/bokeh-gl-0.13.0.min.js\"];\n\n  var inline_js = [\n    function(Bokeh) {\n      Bokeh.set_log_level(\"info\");\n    },\n    \n    function(Bokeh) {\n      \n    },\n    function(Bokeh) {\n      console.log(\"Bokeh: injecting CSS: https://cdn.pydata.org/bokeh/release/bokeh-0.13.0.min.css\");\n      Bokeh.embed.inject_css(\"https://cdn.pydata.org/bokeh/release/bokeh-0.13.0.min.css\");\n      console.log(\"Bokeh: injecting CSS: https://cdn.pydata.org/bokeh/release/bokeh-widgets-0.13.0.min.css\");\n      Bokeh.embed.inject_css(\"https://cdn.pydata.org/bokeh/release/bokeh-widgets-0.13.0.min.css\");\n      console.log(\"Bokeh: injecting CSS: https://cdn.pydata.org/bokeh/release/bokeh-tables-0.13.0.min.css\");\n      Bokeh.embed.inject_css(\"https://cdn.pydata.org/bokeh/release/bokeh-tables-0.13.0.min.css\");\n    }\n  ];\n\n  function run_inline_js() {\n    \n    if ((root.Bokeh !== undefined) || (force === true)) {\n      for (var i = 0; i < inline_js.length; i++) {\n        inline_js[i].call(root, root.Bokeh);\n      }if (force === true) {\n        display_loaded();\n      }} else if (Date.now() < root._bokeh_timeout) {\n      setTimeout(run_inline_js, 100);\n    } else if (!root._bokeh_failed_load) {\n      console.log(\"Bokeh: BokehJS failed to load within specified timeout.\");\n      root._bokeh_failed_load = true;\n    } else if (force !== true) {\n      var cell = $(document.getElementById(\"2cdd8b80-b4e4-4860-b1bb-45f46a58565c\")).parents('.cell').data().cell;\n      cell.output_area.append_execute_result(NB_LOAD_WARNING)\n    }\n\n  }\n\n  if (root._bokeh_is_loading === 0) {\n    console.log(\"Bokeh: BokehJS loaded, going straight to plotting\");\n    run_inline_js();\n  } else {\n    load_libs(js_urls, function() {\n      console.log(\"Bokeh: BokehJS plotting callback run at\", now());\n      run_inline_js();\n    });\n  }\n}(window));"
     },
     "metadata": {},
     "output_type": "display_data"
    },
    {
     "data": {
      "text/html": [
       "\n",
       "\n",
       "\n",
       "\n",
       "\n",
       "\n",
       "  <div class=\"bk-root\" id=\"9e08f86d-4e1b-48c0-b333-9d9f6bcf5931\"></div>\n"
      ]
     },
     "metadata": {},
     "output_type": "display_data"
    },
    {
     "data": {
      "application/javascript": [
       "(function(root) {\n",
       "  function embed_document(root) {\n",
       "    \n",
       "  var docs_json = {\"45b2ad80-34a1-41d0-9264-36985dc2d70c\":{\"roots\":{\"references\":[{\"attributes\":{\"plot\":{\"id\":\"6307a268-17b4-44e3-81f8-25ab9fdbf478\",\"subtype\":\"Figure\",\"type\":\"Plot\"},\"ticker\":{\"id\":\"a4d6e59d-61a3-4b9c-87ac-8bfaad2cbb2e\",\"type\":\"BasicTicker\"}},\"id\":\"a37e1929-0e75-4c37-9cf2-9f5ae81748d3\",\"type\":\"Grid\"},{\"attributes\":{},\"id\":\"73008cad-ea01-475b-b172-47e4eda1112d\",\"type\":\"Selection\"},{\"attributes\":{},\"id\":\"73fb72fa-2e4b-4da1-ab9a-536338818ceb\",\"type\":\"LinearScale\"},{\"attributes\":{},\"id\":\"fcbc7f59-e3d9-4f28-b697-ed8e08066f34\",\"type\":\"LinearScale\"},{\"attributes\":{\"callback\":null,\"start\":0},\"id\":\"feca9cbf-505d-4211-bd4a-728d06f8e365\",\"type\":\"DataRange1d\"},{\"attributes\":{\"axis_label\":\"Pclass\",\"formatter\":{\"id\":\"40d7aaa8-81f5-45e0-8959-7b7980a533c4\",\"type\":\"BasicTickFormatter\"},\"plot\":{\"id\":\"6307a268-17b4-44e3-81f8-25ab9fdbf478\",\"subtype\":\"Figure\",\"type\":\"Plot\"},\"ticker\":{\"id\":\"a4d6e59d-61a3-4b9c-87ac-8bfaad2cbb2e\",\"type\":\"BasicTicker\"}},\"id\":\"2fdc2f12-7fdf-461b-b68f-017b55bdacf6\",\"type\":\"LinearAxis\"},{\"attributes\":{},\"id\":\"32e586cb-48bf-4742-a9d4-38000067835f\",\"type\":\"UnionRenderers\"},{\"attributes\":{},\"id\":\"a4d6e59d-61a3-4b9c-87ac-8bfaad2cbb2e\",\"type\":\"BasicTicker\"},{\"attributes\":{\"axis_label\":\"Average Age\",\"formatter\":{\"id\":\"a52de3d1-00a1-4d7c-9c29-6bec1be5ccba\",\"type\":\"BasicTickFormatter\"},\"plot\":{\"id\":\"6307a268-17b4-44e3-81f8-25ab9fdbf478\",\"subtype\":\"Figure\",\"type\":\"Plot\"},\"ticker\":{\"id\":\"94cad6db-5485-4c88-b068-2ab067cf16ac\",\"type\":\"BasicTicker\"}},\"id\":\"e27176a4-9923-4111-b9cd-29ddb2f7ee54\",\"type\":\"LinearAxis\"},{\"attributes\":{\"range\":null,\"value\":-0.1},\"id\":\"544aac23-99af-4ada-8b60-a5c8b97550b2\",\"type\":\"Dodge\"},{\"attributes\":{},\"id\":\"94cad6db-5485-4c88-b068-2ab067cf16ac\",\"type\":\"BasicTicker\"},{\"attributes\":{\"callback\":null,\"data\":{\"Age\":{\"__ndarray__\":\"Tk5OTk5OQUCRz7rBFLk8QAAAAAAAwDVA\",\"dtype\":\"float64\",\"shape\":[3]},\"Pclass\":[1,2,3]},\"selected\":{\"id\":\"07357d86-454c-4a0d-979a-af2d6d8f4848\",\"type\":\"Selection\"},\"selection_policy\":{\"id\":\"415131ce-ba99-4e02-86ea-88bd786fa813\",\"type\":\"UnionRenderers\"}},\"id\":\"44ede1f1-ce4d-4eb0-8337-580522e50962\",\"type\":\"ColumnDataSource\"},{\"attributes\":{\"dimension\":1,\"plot\":{\"id\":\"6307a268-17b4-44e3-81f8-25ab9fdbf478\",\"subtype\":\"Figure\",\"type\":\"Plot\"},\"ticker\":{\"id\":\"94cad6db-5485-4c88-b068-2ab067cf16ac\",\"type\":\"BasicTicker\"}},\"id\":\"5d6eb6f5-50bd-429b-b5ba-4a3fc54dd52f\",\"type\":\"Grid\"},{\"attributes\":{\"below\":[{\"id\":\"2fdc2f12-7fdf-461b-b68f-017b55bdacf6\",\"type\":\"LinearAxis\"}],\"left\":[{\"id\":\"e27176a4-9923-4111-b9cd-29ddb2f7ee54\",\"type\":\"LinearAxis\"}],\"renderers\":[{\"id\":\"2fdc2f12-7fdf-461b-b68f-017b55bdacf6\",\"type\":\"LinearAxis\"},{\"id\":\"a37e1929-0e75-4c37-9cf2-9f5ae81748d3\",\"type\":\"Grid\"},{\"id\":\"e27176a4-9923-4111-b9cd-29ddb2f7ee54\",\"type\":\"LinearAxis\"},{\"id\":\"5d6eb6f5-50bd-429b-b5ba-4a3fc54dd52f\",\"type\":\"Grid\"},{\"id\":\"892e8249-f70e-4169-b2b9-d20f17840512\",\"type\":\"BoxAnnotation\"},{\"id\":\"80e4fdfb-cf0b-4a10-bd85-8a8bce8926ba\",\"type\":\"Legend\"},{\"id\":\"d815a103-9c6f-4332-968e-f790efe8f1fb\",\"type\":\"GlyphRenderer\"},{\"id\":\"17a5b44f-a562-47be-9d9d-4bea46cec7b9\",\"type\":\"GlyphRenderer\"}],\"title\":{\"id\":\"541cafa1-4776-4d74-ad47-79871fbc5e9f\",\"type\":\"Title\"},\"toolbar\":{\"id\":\"0d218bcc-c782-484e-bea6-5edce7f30498\",\"type\":\"Toolbar\"},\"x_range\":{\"id\":\"c3e4f710-d56b-4906-91a4-93abb8159567\",\"type\":\"DataRange1d\"},\"x_scale\":{\"id\":\"73fb72fa-2e4b-4da1-ab9a-536338818ceb\",\"type\":\"LinearScale\"},\"y_range\":{\"id\":\"feca9cbf-505d-4211-bd4a-728d06f8e365\",\"type\":\"DataRange1d\"},\"y_scale\":{\"id\":\"fcbc7f59-e3d9-4f28-b697-ed8e08066f34\",\"type\":\"LinearScale\"}},\"id\":\"6307a268-17b4-44e3-81f8-25ab9fdbf478\",\"subtype\":\"Figure\",\"type\":\"Plot\"},{\"attributes\":{\"items\":[{\"id\":\"9362d593-875d-4b52-96d4-bf9498fe8692\",\"type\":\"LegendItem\"},{\"id\":\"990b177f-9c70-401f-bb94-957d37c4c037\",\"type\":\"LegendItem\"}],\"plot\":{\"id\":\"6307a268-17b4-44e3-81f8-25ab9fdbf478\",\"subtype\":\"Figure\",\"type\":\"Plot\"}},\"id\":\"80e4fdfb-cf0b-4a10-bd85-8a8bce8926ba\",\"type\":\"Legend\"},{\"attributes\":{\"active_drag\":\"auto\",\"active_inspect\":\"auto\",\"active_multi\":null,\"active_scroll\":\"auto\",\"active_tap\":\"auto\",\"tools\":[{\"id\":\"af43b85f-5b13-40f0-8e66-a7298486a474\",\"type\":\"PanTool\"},{\"id\":\"16cd9a78-3d6b-46ad-8745-e8fcfdc4c5cc\",\"type\":\"WheelZoomTool\"},{\"id\":\"76e769d1-c857-402d-8d10-78e8534c7b6d\",\"type\":\"BoxZoomTool\"},{\"id\":\"75b25cbc-3d68-4ed3-866a-4be26e9eb305\",\"type\":\"SaveTool\"},{\"id\":\"a8ec2979-7a7b-4a5e-81e4-24523cd79283\",\"type\":\"ResetTool\"},{\"id\":\"9e8ec64d-7b94-4052-a858-5cc0568bd5b8\",\"type\":\"HelpTool\"}]},\"id\":\"0d218bcc-c782-484e-bea6-5edce7f30498\",\"type\":\"Toolbar\"},{\"attributes\":{},\"id\":\"af43b85f-5b13-40f0-8e66-a7298486a474\",\"type\":\"PanTool\"},{\"attributes\":{},\"id\":\"16cd9a78-3d6b-46ad-8745-e8fcfdc4c5cc\",\"type\":\"WheelZoomTool\"},{\"attributes\":{\"overlay\":{\"id\":\"892e8249-f70e-4169-b2b9-d20f17840512\",\"type\":\"BoxAnnotation\"}},\"id\":\"76e769d1-c857-402d-8d10-78e8534c7b6d\",\"type\":\"BoxZoomTool\"},{\"attributes\":{\"label\":{\"value\":\"Female\"},\"renderers\":[{\"id\":\"d815a103-9c6f-4332-968e-f790efe8f1fb\",\"type\":\"GlyphRenderer\"}]},\"id\":\"9362d593-875d-4b52-96d4-bf9498fe8692\",\"type\":\"LegendItem\"},{\"attributes\":{\"range\":null,\"value\":0.1},\"id\":\"a4e3765f-3f3c-4946-b609-eeb8da45c490\",\"type\":\"Dodge\"},{\"attributes\":{},\"id\":\"75b25cbc-3d68-4ed3-866a-4be26e9eb305\",\"type\":\"SaveTool\"},{\"attributes\":{},\"id\":\"a8ec2979-7a7b-4a5e-81e4-24523cd79283\",\"type\":\"ResetTool\"},{\"attributes\":{},\"id\":\"9e8ec64d-7b94-4052-a858-5cc0568bd5b8\",\"type\":\"HelpTool\"},{\"attributes\":{\"bottom_units\":\"screen\",\"fill_alpha\":{\"value\":0.5},\"fill_color\":{\"value\":\"lightgrey\"},\"left_units\":\"screen\",\"level\":\"overlay\",\"line_alpha\":{\"value\":1.0},\"line_color\":{\"value\":\"black\"},\"line_dash\":[4,4],\"line_width\":{\"value\":2},\"plot\":null,\"render_mode\":\"css\",\"right_units\":\"screen\",\"top_units\":\"screen\"},\"id\":\"892e8249-f70e-4169-b2b9-d20f17840512\",\"type\":\"BoxAnnotation\"},{\"attributes\":{},\"id\":\"40d7aaa8-81f5-45e0-8959-7b7980a533c4\",\"type\":\"BasicTickFormatter\"},{\"attributes\":{\"plot\":null,\"text\":\"Average Age Per Gender Per Class\"},\"id\":\"541cafa1-4776-4d74-ad47-79871fbc5e9f\",\"type\":\"Title\"},{\"attributes\":{},\"id\":\"a52de3d1-00a1-4d7c-9c29-6bec1be5ccba\",\"type\":\"BasicTickFormatter\"},{\"attributes\":{\"fill_color\":{\"value\":\"lightblue\"},\"line_color\":{\"value\":\"lightblue\"},\"top\":{\"field\":\"Age\"},\"width\":{\"value\":0.2},\"x\":{\"field\":\"Pclass\",\"transform\":{\"id\":\"544aac23-99af-4ada-8b60-a5c8b97550b2\",\"type\":\"Dodge\"}}},\"id\":\"da0d4839-199d-4413-b94c-c45323a6a5db\",\"type\":\"VBar\"},{\"attributes\":{\"fill_alpha\":{\"value\":0.1},\"fill_color\":{\"value\":\"#1f77b4\"},\"line_alpha\":{\"value\":0.1},\"line_color\":{\"value\":\"#1f77b4\"},\"top\":{\"field\":\"Age\"},\"width\":{\"value\":0.2},\"x\":{\"field\":\"Pclass\",\"transform\":{\"id\":\"a4e3765f-3f3c-4946-b609-eeb8da45c490\",\"type\":\"Dodge\"}}},\"id\":\"6cd9e4cc-a7d1-457b-97d2-94aef45d5b49\",\"type\":\"VBar\"},{\"attributes\":{},\"id\":\"07357d86-454c-4a0d-979a-af2d6d8f4848\",\"type\":\"Selection\"},{\"attributes\":{\"fill_alpha\":{\"value\":0.1},\"fill_color\":{\"value\":\"#1f77b4\"},\"line_alpha\":{\"value\":0.1},\"line_color\":{\"value\":\"#1f77b4\"},\"top\":{\"field\":\"Age\"},\"width\":{\"value\":0.2},\"x\":{\"field\":\"Pclass\",\"transform\":{\"id\":\"544aac23-99af-4ada-8b60-a5c8b97550b2\",\"type\":\"Dodge\"}}},\"id\":\"b950f2ab-bdde-4dcc-b616-47662cf46672\",\"type\":\"VBar\"},{\"attributes\":{\"data_source\":{\"id\":\"f06c3a20-dc52-42fe-b4d4-c2c085c31812\",\"type\":\"ColumnDataSource\"},\"glyph\":{\"id\":\"da0d4839-199d-4413-b94c-c45323a6a5db\",\"type\":\"VBar\"},\"hover_glyph\":null,\"muted_glyph\":null,\"nonselection_glyph\":{\"id\":\"b950f2ab-bdde-4dcc-b616-47662cf46672\",\"type\":\"VBar\"},\"selection_glyph\":null,\"view\":{\"id\":\"78012bd8-e3b0-4dac-8a53-d4c5cb49ca04\",\"type\":\"CDSView\"}},\"id\":\"17a5b44f-a562-47be-9d9d-4bea46cec7b9\",\"type\":\"GlyphRenderer\"},{\"attributes\":{\"fill_color\":{\"value\":\"pink\"},\"line_color\":{\"value\":\"pink\"},\"top\":{\"field\":\"Age\"},\"width\":{\"value\":0.2},\"x\":{\"field\":\"Pclass\",\"transform\":{\"id\":\"a4e3765f-3f3c-4946-b609-eeb8da45c490\",\"type\":\"Dodge\"}}},\"id\":\"ff0baab0-53ba-41b6-9a27-a0c9e2fc8257\",\"type\":\"VBar\"},{\"attributes\":{\"callback\":null,\"data\":{\"Age\":{\"__ndarray__\":\"d3IDdgSkREBTmoT6nr0+QPc2KlnxgTpA\",\"dtype\":\"float64\",\"shape\":[3]},\"Pclass\":[1,2,3]},\"selected\":{\"id\":\"73008cad-ea01-475b-b172-47e4eda1112d\",\"type\":\"Selection\"},\"selection_policy\":{\"id\":\"32e586cb-48bf-4742-a9d4-38000067835f\",\"type\":\"UnionRenderers\"}},\"id\":\"f06c3a20-dc52-42fe-b4d4-c2c085c31812\",\"type\":\"ColumnDataSource\"},{\"attributes\":{\"callback\":null},\"id\":\"c3e4f710-d56b-4906-91a4-93abb8159567\",\"type\":\"DataRange1d\"},{\"attributes\":{\"source\":{\"id\":\"44ede1f1-ce4d-4eb0-8337-580522e50962\",\"type\":\"ColumnDataSource\"}},\"id\":\"499b9fa2-6281-4026-9fb5-cca365152dc7\",\"type\":\"CDSView\"},{\"attributes\":{\"source\":{\"id\":\"f06c3a20-dc52-42fe-b4d4-c2c085c31812\",\"type\":\"ColumnDataSource\"}},\"id\":\"78012bd8-e3b0-4dac-8a53-d4c5cb49ca04\",\"type\":\"CDSView\"},{\"attributes\":{},\"id\":\"415131ce-ba99-4e02-86ea-88bd786fa813\",\"type\":\"UnionRenderers\"},{\"attributes\":{\"data_source\":{\"id\":\"44ede1f1-ce4d-4eb0-8337-580522e50962\",\"type\":\"ColumnDataSource\"},\"glyph\":{\"id\":\"ff0baab0-53ba-41b6-9a27-a0c9e2fc8257\",\"type\":\"VBar\"},\"hover_glyph\":null,\"muted_glyph\":null,\"nonselection_glyph\":{\"id\":\"6cd9e4cc-a7d1-457b-97d2-94aef45d5b49\",\"type\":\"VBar\"},\"selection_glyph\":null,\"view\":{\"id\":\"499b9fa2-6281-4026-9fb5-cca365152dc7\",\"type\":\"CDSView\"}},\"id\":\"d815a103-9c6f-4332-968e-f790efe8f1fb\",\"type\":\"GlyphRenderer\"},{\"attributes\":{\"label\":{\"value\":\"Male\"},\"renderers\":[{\"id\":\"17a5b44f-a562-47be-9d9d-4bea46cec7b9\",\"type\":\"GlyphRenderer\"}]},\"id\":\"990b177f-9c70-401f-bb94-957d37c4c037\",\"type\":\"LegendItem\"}],\"root_ids\":[\"6307a268-17b4-44e3-81f8-25ab9fdbf478\"]},\"title\":\"Bokeh Application\",\"version\":\"0.13.0\"}};\n",
       "  var render_items = [{\"docid\":\"45b2ad80-34a1-41d0-9264-36985dc2d70c\",\"roots\":{\"6307a268-17b4-44e3-81f8-25ab9fdbf478\":\"9e08f86d-4e1b-48c0-b333-9d9f6bcf5931\"}}];\n",
       "  root.Bokeh.embed.embed_items_notebook(docs_json, render_items);\n",
       "\n",
       "  }\n",
       "  if (root.Bokeh !== undefined) {\n",
       "    embed_document(root);\n",
       "  } else {\n",
       "    var attempts = 0;\n",
       "    var timer = setInterval(function(root) {\n",
       "      if (root.Bokeh !== undefined) {\n",
       "        embed_document(root);\n",
       "        clearInterval(timer);\n",
       "      }\n",
       "      attempts++;\n",
       "      if (attempts > 100) {\n",
       "        console.log(\"Bokeh: ERROR: Unable to run BokehJS code because BokehJS library is missing\")\n",
       "        clearInterval(timer);\n",
       "      }\n",
       "    }, 10, root)\n",
       "  }\n",
       "})(window);"
      ],
      "application/vnd.bokehjs_exec.v0+json": ""
     },
     "metadata": {
      "application/vnd.bokehjs_exec.v0+json": {
       "id": "6307a268-17b4-44e3-81f8-25ab9fdbf478"
      }
     },
     "output_type": "display_data"
    }
   ],
   "source": [
    "output_notebook()\n",
    "\n",
    "fig_EDA_Titanic = figure(title = 'Average Age Per Gender Per Class')\n",
    "\n",
    "from bokeh.transform import dodge\n",
    "from bokeh.core.properties import value\n",
    "\n",
    "age_f = data_train[data_train['Female'] == 1]\n",
    "age_P1_f = age_f.groupby('Pclass').agg({'Age' : 'mean'})\n",
    "\n",
    "age_m = data_train[data_train['Female'] == 0]\n",
    "age_P1_m = age_m.groupby('Pclass').agg({'Age' : 'mean'})\n",
    "\n",
    "source_f = ColumnDataSource(age_P1_f)\n",
    "pf = fig_EDA_Titanic.vbar(x = dodge('Pclass', value = 0.1), top = 'Age', width = 0.2, source = source_f, color = 'pink', legend=value(\"Female\"))\n",
    "\n",
    "source_m = ColumnDataSource(age_P1_m)\n",
    "pm = fig_EDA_Titanic.vbar(x = dodge('Pclass', value = - 0.1), top = 'Age', width = 0.2, source = source_m, color = 'lightblue', legend=value(\"Male\"))\n",
    "\n",
    "\n",
    "fig_EDA_Titanic.xaxis.axis_label = 'Pclass'\n",
    "fig_EDA_Titanic.yaxis.axis_label = 'Average Age'\n",
    "fig_EDA_Titanic.y_range.start = 0\n",
    "\n",
    "show(fig_EDA_Titanic)"
   ]
  },
  {
   "cell_type": "code",
   "execution_count": 371,
   "metadata": {},
   "outputs": [],
   "source": [
    "a = data_train.groupby('Age').agg({'Survived' : 'count'})\n",
    "b = data_train.groupby('Age').agg({'Survived' : 'min'})"
   ]
  },
  {
   "cell_type": "code",
   "execution_count": 372,
   "metadata": {},
   "outputs": [
    {
     "data": {
      "text/plain": [
       "<matplotlib.axes._subplots.AxesSubplot at 0x1495f5ac978>"
      ]
     },
     "execution_count": 372,
     "metadata": {},
     "output_type": "execute_result"
    },
    {
     "data": {
      "image/png": "[encoded data removed]",
      "text/plain": [
       "<Figure size 432x288 with 1 Axes>"
      ]
     },
     "metadata": {
      "needs_background": "light"
     },
     "output_type": "display_data"
    }
   ],
   "source": [
    "a.plot()"
   ]
  },
  {
   "cell_type": "code",
   "execution_count": 373,
   "metadata": {},
   "outputs": [
    {
     "data": {
      "text/html": [
       "<div>\n",
       "<style scoped>\n",
       "    .dataframe tbody tr th:only-of-type {\n",
       "        vertical-align: middle;\n",
       "    }\n",
       "\n",
       "    .dataframe tbody tr th {\n",
       "        vertical-align: top;\n",
       "    }\n",
       "\n",
       "    .dataframe thead th {\n",
       "        text-align: right;\n",
       "    }\n",
       "</style>\n",
       "<table border=\"1\" class=\"dataframe\">\n",
       "  <thead>\n",
       "    <tr style=\"text-align: right;\">\n",
       "      <th></th>\n",
       "      <th>Survived</th>\n",
       "    </tr>\n",
       "    <tr>\n",
       "      <th>Age</th>\n",
       "      <th></th>\n",
       "    </tr>\n",
       "  </thead>\n",
       "  <tbody>\n",
       "    <tr>\n",
       "      <th>0.42</th>\n",
       "      <td>1</td>\n",
       "    </tr>\n",
       "    <tr>\n",
       "      <th>0.67</th>\n",
       "      <td>1</td>\n",
       "    </tr>\n",
       "    <tr>\n",
       "      <th>0.75</th>\n",
       "      <td>1</td>\n",
       "    </tr>\n",
       "    <tr>\n",
       "      <th>0.83</th>\n",
       "      <td>1</td>\n",
       "    </tr>\n",
       "    <tr>\n",
       "      <th>0.92</th>\n",
       "      <td>1</td>\n",
       "    </tr>\n",
       "    <tr>\n",
       "      <th>5.00</th>\n",
       "      <td>1</td>\n",
       "    </tr>\n",
       "    <tr>\n",
       "      <th>12.00</th>\n",
       "      <td>1</td>\n",
       "    </tr>\n",
       "    <tr>\n",
       "      <th>13.00</th>\n",
       "      <td>1</td>\n",
       "    </tr>\n",
       "    <tr>\n",
       "      <th>53.00</th>\n",
       "      <td>1</td>\n",
       "    </tr>\n",
       "    <tr>\n",
       "      <th>63.00</th>\n",
       "      <td>1</td>\n",
       "    </tr>\n",
       "    <tr>\n",
       "      <th>80.00</th>\n",
       "      <td>1</td>\n",
       "    </tr>\n",
       "  </tbody>\n",
       "</table>\n",
       "</div>"
      ],
      "text/plain": [
       "       Survived\n",
       "Age            \n",
       "0.42          1\n",
       "0.67          1\n",
       "0.75          1\n",
       "0.83          1\n",
       "0.92          1\n",
       "5.00          1\n",
       "12.00         1\n",
       "13.00         1\n",
       "53.00         1\n",
       "63.00         1\n",
       "80.00         1"
      ]
     },
     "execution_count": 373,
     "metadata": {},
     "output_type": "execute_result"
    }
   ],
   "source": [
    "b[b['Survived'] == 1 ]"
   ]
  },
  {
   "cell_type": "code",
   "execution_count": 390,
   "metadata": {},
   "outputs": [],
   "source": [
    "X = data_train.drop(['Survived', 'Name', 'Sex', 'Cabin', 'Ticket', 'Embarked'], axis = 1)\n",
    "X.Age = X.Age.fillna(X.Age.median())"
   ]
  },
  {
   "cell_type": "code",
   "execution_count": 391,
   "metadata": {},
   "outputs": [],
   "source": [
    "from sklearn.model_selection import train_test_split\n",
    "X_train, X_test, y_train, y_test = train_test_split(X,y, random_state = 1)"
   ]
  },
  {
   "cell_type": "code",
   "execution_count": 392,
   "metadata": {},
   "outputs": [],
   "source": [
    "y = data_train['Survived']"
   ]
  },
  {
   "cell_type": "code",
   "execution_count": 393,
   "metadata": {},
   "outputs": [
    {
     "name": "stdout",
     "output_type": "stream",
     "text": [
      "<class 'pandas.core.frame.DataFrame'>\n",
      "RangeIndex: 891 entries, 0 to 890\n",
      "Data columns (total 8 columns):\n",
      "PassengerId    891 non-null int64\n",
      "Pclass         891 non-null int64\n",
      "Age            891 non-null float64\n",
      "SibSp          891 non-null int64\n",
      "Parch          891 non-null int64\n",
      "Fare           891 non-null float64\n",
      "Female         891 non-null uint8\n",
      "Male           891 non-null uint8\n",
      "dtypes: float64(2), int64(4), uint8(2)\n",
      "memory usage: 43.6 KB\n"
     ]
    }
   ],
   "source": [
    "X.info()"
   ]
  },
  {
   "cell_type": "code",
   "execution_count": 394,
   "metadata": {},
   "outputs": [
    {
     "data": {
      "text/plain": [
       "(223, 8)"
      ]
     },
     "execution_count": 394,
     "metadata": {},
     "output_type": "execute_result"
    }
   ],
   "source": [
    "X_test.shape"
   ]
  },
  {
   "cell_type": "code",
   "execution_count": 395,
   "metadata": {},
   "outputs": [
    {
     "data": {
      "text/plain": [
       "862    1\n",
       "223    0\n",
       "84     1\n",
       "680    0\n",
       "535    1\n",
       "623    0\n",
       "148    0\n",
       "3      1\n",
       "34     0\n",
       "241    1\n",
       "794    0\n",
       "2      1\n",
       "6      0\n",
       "17     1\n",
       "368    1\n",
       "430    1\n",
       "819    0\n",
       "743    0\n",
       "189    0\n",
       "437    1\n",
       "382    0\n",
       "73     0\n",
       "710    1\n",
       "385    0\n",
       "111    0\n",
       "821    1\n",
       "742    1\n",
       "865    1\n",
       "619    0\n",
       "708    1\n",
       "      ..\n",
       "875    1\n",
       "852    0\n",
       "61     1\n",
       "277    0\n",
       "427    1\n",
       "676    0\n",
       "493    0\n",
       "433    0\n",
       "571    1\n",
       "773    0\n",
       "135    0\n",
       "248    1\n",
       "345    1\n",
       "765    1\n",
       "134    0\n",
       "507    1\n",
       "104    0\n",
       "218    1\n",
       "850    0\n",
       "57     0\n",
       "731    0\n",
       "543    1\n",
       "614    0\n",
       "411    0\n",
       "307    1\n",
       "506    1\n",
       "467    0\n",
       "740    1\n",
       "354    0\n",
       "449    1\n",
       "Name: Survived, Length: 223, dtype: int64"
      ]
     },
     "execution_count": 395,
     "metadata": {},
     "output_type": "execute_result"
    }
   ],
   "source": [
    "y_test"
   ]
  },
  {
   "cell_type": "code",
   "execution_count": 407,
   "metadata": {},
   "outputs": [],
   "source": [
    "titanic_model = DecisionTreeRegressor(random_state=2)\n",
    "titanic_model.fit(X_train, y_train)\n",
    "prediction = titanic_model.predict(X_test)\n",
    "list_pred = list(prediction)"
   ]
  },
  {
   "cell_type": "code",
   "execution_count": 408,
   "metadata": {},
   "outputs": [
    {
     "name": "stdout",
     "output_type": "stream",
     "text": [
      "0.7174887892376682\n"
     ]
    }
   ],
   "source": [
    "from sklearn.metrics import mean_absolute_error\n",
    "accuracy = 1 - mean_absolute_error(prediction, y_test)\n",
    "print(accuracy)"
   ]
  },
  {
   "cell_type": "code",
   "execution_count": 409,
   "metadata": {},
   "outputs": [
    {
     "name": "stdout",
     "output_type": "stream",
     "text": [
      "<class 'pandas.core.frame.DataFrame'>\n",
      "Int64Index: 668 entries, 35 to 37\n",
      "Data columns (total 8 columns):\n",
      "PassengerId    668 non-null int64\n",
      "Pclass         668 non-null int64\n",
      "Age            668 non-null float64\n",
      "SibSp          668 non-null int64\n",
      "Parch          668 non-null int64\n",
      "Fare           668 non-null float64\n",
      "Female         668 non-null uint8\n",
      "Male           668 non-null uint8\n",
      "dtypes: float64(2), int64(4), uint8(2)\n",
      "memory usage: 37.8 KB\n"
     ]
    }
   ],
   "source": [
    "X_train.info()"
   ]
  },
  {
   "cell_type": "code",
   "execution_count": 420,
   "metadata": {},
   "outputs": [
    {
     "data": {
      "text/html": [
       "<style  type=\"text/css\" >\n",
       "    #T_eab3ee26_d39f_11e8_8b91_94e979ea5698row0_col0 {\n",
       "            background-color:  #023858;\n",
       "        }    #T_eab3ee26_d39f_11e8_8b91_94e979ea5698row0_col1 {\n",
       "            background-color:  #afc1dd;\n",
       "        }    #T_eab3ee26_d39f_11e8_8b91_94e979ea5698row0_col2 {\n",
       "            background-color:  #b5c4df;\n",
       "        }    #T_eab3ee26_d39f_11e8_8b91_94e979ea5698row0_col3 {\n",
       "            background-color:  #c1cae2;\n",
       "        }    #T_eab3ee26_d39f_11e8_8b91_94e979ea5698row0_col4 {\n",
       "            background-color:  #dddbec;\n",
       "        }    #T_eab3ee26_d39f_11e8_8b91_94e979ea5698row0_col5 {\n",
       "            background-color:  #dcdaeb;\n",
       "        }    #T_eab3ee26_d39f_11e8_8b91_94e979ea5698row0_col6 {\n",
       "            background-color:  #abbfdc;\n",
       "        }    #T_eab3ee26_d39f_11e8_8b91_94e979ea5698row0_col7 {\n",
       "            background-color:  #7dacd1;\n",
       "        }    #T_eab3ee26_d39f_11e8_8b91_94e979ea5698row0_col8 {\n",
       "            background-color:  #69a5cc;\n",
       "        }    #T_eab3ee26_d39f_11e8_8b91_94e979ea5698row1_col0 {\n",
       "            background-color:  #f8f1f8;\n",
       "        }    #T_eab3ee26_d39f_11e8_8b91_94e979ea5698row1_col1 {\n",
       "            background-color:  #023858;\n",
       "        }    #T_eab3ee26_d39f_11e8_8b91_94e979ea5698row1_col2 {\n",
       "            background-color:  #eae6f1;\n",
       "        }    #T_eab3ee26_d39f_11e8_8b91_94e979ea5698row1_col3 {\n",
       "            background-color:  #d9d8ea;\n",
       "        }    #T_eab3ee26_d39f_11e8_8b91_94e979ea5698row1_col4 {\n",
       "            background-color:  #d9d8ea;\n",
       "        }    #T_eab3ee26_d39f_11e8_8b91_94e979ea5698row1_col5 {\n",
       "            background-color:  #cccfe5;\n",
       "        }    #T_eab3ee26_d39f_11e8_8b91_94e979ea5698row1_col6 {\n",
       "            background-color:  #69a5cc;\n",
       "        }    #T_eab3ee26_d39f_11e8_8b91_94e979ea5698row1_col7 {\n",
       "            background-color:  #056caa;\n",
       "        }    #T_eab3ee26_d39f_11e8_8b91_94e979ea5698row1_col8 {\n",
       "            background-color:  #d5d5e8;\n",
       "        }    #T_eab3ee26_d39f_11e8_8b91_94e979ea5698row2_col0 {\n",
       "            background-color:  #fcf4fa;\n",
       "        }    #T_eab3ee26_d39f_11e8_8b91_94e979ea5698row2_col1 {\n",
       "            background-color:  #ebe6f2;\n",
       "        }    #T_eab3ee26_d39f_11e8_8b91_94e979ea5698row2_col2 {\n",
       "            background-color:  #023858;\n",
       "        }    #T_eab3ee26_d39f_11e8_8b91_94e979ea5698row2_col3 {\n",
       "            background-color:  #fff7fb;\n",
       "        }    #T_eab3ee26_d39f_11e8_8b91_94e979ea5698row2_col4 {\n",
       "            background-color:  #c0c9e2;\n",
       "        }    #T_eab3ee26_d39f_11e8_8b91_94e979ea5698row2_col5 {\n",
       "            background-color:  #d9d8ea;\n",
       "        }    #T_eab3ee26_d39f_11e8_8b91_94e979ea5698row2_col6 {\n",
       "            background-color:  #fff7fb;\n",
       "        }    #T_eab3ee26_d39f_11e8_8b91_94e979ea5698row2_col7 {\n",
       "            background-color:  #8eb3d5;\n",
       "        }    #T_eab3ee26_d39f_11e8_8b91_94e979ea5698row2_col8 {\n",
       "            background-color:  #549cc7;\n",
       "        }    #T_eab3ee26_d39f_11e8_8b91_94e979ea5698row3_col0 {\n",
       "            background-color:  #f2ecf5;\n",
       "        }    #T_eab3ee26_d39f_11e8_8b91_94e979ea5698row3_col1 {\n",
       "            background-color:  #bfc9e1;\n",
       "        }    #T_eab3ee26_d39f_11e8_8b91_94e979ea5698row3_col2 {\n",
       "            background-color:  #eee8f3;\n",
       "        }    #T_eab3ee26_d39f_11e8_8b91_94e979ea5698row3_col3 {\n",
       "            background-color:  #023858;\n",
       "        }    #T_eab3ee26_d39f_11e8_8b91_94e979ea5698row3_col4 {\n",
       "            background-color:  #fff7fb;\n",
       "        }    #T_eab3ee26_d39f_11e8_8b91_94e979ea5698row3_col5 {\n",
       "            background-color:  #f8f1f8;\n",
       "        }    #T_eab3ee26_d39f_11e8_8b91_94e979ea5698row3_col6 {\n",
       "            background-color:  #96b6d7;\n",
       "        }    #T_eab3ee26_d39f_11e8_8b91_94e979ea5698row3_col7 {\n",
       "            background-color:  #86b0d3;\n",
       "        }    #T_eab3ee26_d39f_11e8_8b91_94e979ea5698row3_col8 {\n",
       "            background-color:  #5ea0ca;\n",
       "        }    #T_eab3ee26_d39f_11e8_8b91_94e979ea5698row4_col0 {\n",
       "            background-color:  #fff7fb;\n",
       "        }    #T_eab3ee26_d39f_11e8_8b91_94e979ea5698row4_col1 {\n",
       "            background-color:  #b5c4df;\n",
       "        }    #T_eab3ee26_d39f_11e8_8b91_94e979ea5698row4_col2 {\n",
       "            background-color:  #99b8d8;\n",
       "        }    #T_eab3ee26_d39f_11e8_8b91_94e979ea5698row4_col3 {\n",
       "            background-color:  #f8f1f8;\n",
       "        }    #T_eab3ee26_d39f_11e8_8b91_94e979ea5698row4_col4 {\n",
       "            background-color:  #023858;\n",
       "        }    #T_eab3ee26_d39f_11e8_8b91_94e979ea5698row4_col5 {\n",
       "            background-color:  #65a3cb;\n",
       "        }    #T_eab3ee26_d39f_11e8_8b91_94e979ea5698row4_col6 {\n",
       "            background-color:  #84b0d3;\n",
       "        }    #T_eab3ee26_d39f_11e8_8b91_94e979ea5698row4_col7 {\n",
       "            background-color:  #589ec8;\n",
       "        }    #T_eab3ee26_d39f_11e8_8b91_94e979ea5698row4_col8 {\n",
       "            background-color:  #8bb2d4;\n",
       "        }    #T_eab3ee26_d39f_11e8_8b91_94e979ea5698row5_col0 {\n",
       "            background-color:  #f7f0f7;\n",
       "        }    #T_eab3ee26_d39f_11e8_8b91_94e979ea5698row5_col1 {\n",
       "            background-color:  #9ab8d8;\n",
       "        }    #T_eab3ee26_d39f_11e8_8b91_94e979ea5698row5_col2 {\n",
       "            background-color:  #a9bfdc;\n",
       "        }    #T_eab3ee26_d39f_11e8_8b91_94e979ea5698row5_col3 {\n",
       "            background-color:  #ebe6f2;\n",
       "        }    #T_eab3ee26_d39f_11e8_8b91_94e979ea5698row5_col4 {\n",
       "            background-color:  #5a9ec9;\n",
       "        }    #T_eab3ee26_d39f_11e8_8b91_94e979ea5698row5_col5 {\n",
       "            background-color:  #023858;\n",
       "        }    #T_eab3ee26_d39f_11e8_8b91_94e979ea5698row5_col6 {\n",
       "            background-color:  #76aad0;\n",
       "        }    #T_eab3ee26_d39f_11e8_8b91_94e979ea5698row5_col7 {\n",
       "            background-color:  #3790c0;\n",
       "        }    #T_eab3ee26_d39f_11e8_8b91_94e979ea5698row5_col8 {\n",
       "            background-color:  #a5bddb;\n",
       "        }    #T_eab3ee26_d39f_11e8_8b91_94e979ea5698row6_col0 {\n",
       "            background-color:  #f5eff6;\n",
       "        }    #T_eab3ee26_d39f_11e8_8b91_94e979ea5698row6_col1 {\n",
       "            background-color:  #6ba5cd;\n",
       "        }    #T_eab3ee26_d39f_11e8_8b91_94e979ea5698row6_col2 {\n",
       "            background-color:  #fff7fb;\n",
       "        }    #T_eab3ee26_d39f_11e8_8b91_94e979ea5698row6_col3 {\n",
       "            background-color:  #b3c3de;\n",
       "        }    #T_eab3ee26_d39f_11e8_8b91_94e979ea5698row6_col4 {\n",
       "            background-color:  #acc0dd;\n",
       "        }    #T_eab3ee26_d39f_11e8_8b91_94e979ea5698row6_col5 {\n",
       "            background-color:  #a8bedc;\n",
       "        }    #T_eab3ee26_d39f_11e8_8b91_94e979ea5698row6_col6 {\n",
       "            background-color:  #023858;\n",
       "        }    #T_eab3ee26_d39f_11e8_8b91_94e979ea5698row6_col7 {\n",
       "            background-color:  #4697c4;\n",
       "        }    #T_eab3ee26_d39f_11e8_8b91_94e979ea5698row6_col8 {\n",
       "            background-color:  #99b8d8;\n",
       "        }    #T_eab3ee26_d39f_11e8_8b91_94e979ea5698row7_col0 {\n",
       "            background-color:  #fdf5fa;\n",
       "        }    #T_eab3ee26_d39f_11e8_8b91_94e979ea5698row7_col1 {\n",
       "            background-color:  #167bb6;\n",
       "        }    #T_eab3ee26_d39f_11e8_8b91_94e979ea5698row7_col2 {\n",
       "            background-color:  #cacee5;\n",
       "        }    #T_eab3ee26_d39f_11e8_8b91_94e979ea5698row7_col3 {\n",
       "            background-color:  #dbdaeb;\n",
       "        }    #T_eab3ee26_d39f_11e8_8b91_94e979ea5698row7_col4 {\n",
       "            background-color:  #b8c6e0;\n",
       "        }    #T_eab3ee26_d39f_11e8_8b91_94e979ea5698row7_col5 {\n",
       "            background-color:  #9fbad9;\n",
       "        }    #T_eab3ee26_d39f_11e8_8b91_94e979ea5698row7_col6 {\n",
       "            background-color:  #80aed2;\n",
       "        }    #T_eab3ee26_d39f_11e8_8b91_94e979ea5698row7_col7 {\n",
       "            background-color:  #023858;\n",
       "        }    #T_eab3ee26_d39f_11e8_8b91_94e979ea5698row7_col8 {\n",
       "            background-color:  #fff7fb;\n",
       "        }    #T_eab3ee26_d39f_11e8_8b91_94e979ea5698row8_col0 {\n",
       "            background-color:  #f1ebf4;\n",
       "        }    #T_eab3ee26_d39f_11e8_8b91_94e979ea5698row8_col1 {\n",
       "            background-color:  #fff7fb;\n",
       "        }    #T_eab3ee26_d39f_11e8_8b91_94e979ea5698row8_col2 {\n",
       "            background-color:  #8cb3d5;\n",
       "        }    #T_eab3ee26_d39f_11e8_8b91_94e979ea5698row8_col3 {\n",
       "            background-color:  #b3c3de;\n",
       "        }    #T_eab3ee26_d39f_11e8_8b91_94e979ea5698row8_col4 {\n",
       "            background-color:  #e7e3f0;\n",
       "        }    #T_eab3ee26_d39f_11e8_8b91_94e979ea5698row8_col5 {\n",
       "            background-color:  #fff7fb;\n",
       "        }    #T_eab3ee26_d39f_11e8_8b91_94e979ea5698row8_col6 {\n",
       "            background-color:  #d3d4e7;\n",
       "        }    #T_eab3ee26_d39f_11e8_8b91_94e979ea5698row8_col7 {\n",
       "            background-color:  #fff7fb;\n",
       "        }    #T_eab3ee26_d39f_11e8_8b91_94e979ea5698row8_col8 {\n",
       "            background-color:  #023858;\n",
       "        }</style>  \n",
       "<table id=\"T_eab3ee26_d39f_11e8_8b91_94e979ea5698\" > \n",
       "<thead>    <tr> \n",
       "        <th class=\"blank level0\" ></th> \n",
       "        <th class=\"col_heading level0 col0\" >PassengerId</th> \n",
       "        <th class=\"col_heading level0 col1\" >Survived</th> \n",
       "        <th class=\"col_heading level0 col2\" >Pclass</th> \n",
       "        <th class=\"col_heading level0 col3\" >Age</th> \n",
       "        <th class=\"col_heading level0 col4\" >SibSp</th> \n",
       "        <th class=\"col_heading level0 col5\" >Parch</th> \n",
       "        <th class=\"col_heading level0 col6\" >Fare</th> \n",
       "        <th class=\"col_heading level0 col7\" >Female</th> \n",
       "        <th class=\"col_heading level0 col8\" >Male</th> \n",
       "    </tr></thead> \n",
       "<tbody>    <tr> \n",
       "        <th id=\"T_eab3ee26_d39f_11e8_8b91_94e979ea5698level0_row0\" class=\"row_heading level0 row0\" >PassengerId</th> \n",
       "        <td id=\"T_eab3ee26_d39f_11e8_8b91_94e979ea5698row0_col0\" class=\"data row0 col0\" >1</td> \n",
       "        <td id=\"T_eab3ee26_d39f_11e8_8b91_94e979ea5698row0_col1\" class=\"data row0 col1\" >-0.005</td> \n",
       "        <td id=\"T_eab3ee26_d39f_11e8_8b91_94e979ea5698row0_col2\" class=\"data row0 col2\" >-0.035</td> \n",
       "        <td id=\"T_eab3ee26_d39f_11e8_8b91_94e979ea5698row0_col3\" class=\"data row0 col3\" >0.037</td> \n",
       "        <td id=\"T_eab3ee26_d39f_11e8_8b91_94e979ea5698row0_col4\" class=\"data row0 col4\" >-0.058</td> \n",
       "        <td id=\"T_eab3ee26_d39f_11e8_8b91_94e979ea5698row0_col5\" class=\"data row0 col5\" >-0.0017</td> \n",
       "        <td id=\"T_eab3ee26_d39f_11e8_8b91_94e979ea5698row0_col6\" class=\"data row0 col6\" >0.013</td> \n",
       "        <td id=\"T_eab3ee26_d39f_11e8_8b91_94e979ea5698row0_col7\" class=\"data row0 col7\" >-0.043</td> \n",
       "        <td id=\"T_eab3ee26_d39f_11e8_8b91_94e979ea5698row0_col8\" class=\"data row0 col8\" >0.043</td> \n",
       "    </tr>    <tr> \n",
       "        <th id=\"T_eab3ee26_d39f_11e8_8b91_94e979ea5698level0_row1\" class=\"row_heading level0 row1\" >Survived</th> \n",
       "        <td id=\"T_eab3ee26_d39f_11e8_8b91_94e979ea5698row1_col0\" class=\"data row1 col0\" >-0.005</td> \n",
       "        <td id=\"T_eab3ee26_d39f_11e8_8b91_94e979ea5698row1_col1\" class=\"data row1 col1\" >1</td> \n",
       "        <td id=\"T_eab3ee26_d39f_11e8_8b91_94e979ea5698row1_col2\" class=\"data row1 col2\" >-0.34</td> \n",
       "        <td id=\"T_eab3ee26_d39f_11e8_8b91_94e979ea5698row1_col3\" class=\"data row1 col3\" >-0.077</td> \n",
       "        <td id=\"T_eab3ee26_d39f_11e8_8b91_94e979ea5698row1_col4\" class=\"data row1 col4\" >-0.035</td> \n",
       "        <td id=\"T_eab3ee26_d39f_11e8_8b91_94e979ea5698row1_col5\" class=\"data row1 col5\" >0.082</td> \n",
       "        <td id=\"T_eab3ee26_d39f_11e8_8b91_94e979ea5698row1_col6\" class=\"data row1 col6\" >0.26</td> \n",
       "        <td id=\"T_eab3ee26_d39f_11e8_8b91_94e979ea5698row1_col7\" class=\"data row1 col7\" >0.54</td> \n",
       "        <td id=\"T_eab3ee26_d39f_11e8_8b91_94e979ea5698row1_col8\" class=\"data row1 col8\" >-0.54</td> \n",
       "    </tr>    <tr> \n",
       "        <th id=\"T_eab3ee26_d39f_11e8_8b91_94e979ea5698level0_row2\" class=\"row_heading level0 row2\" >Pclass</th> \n",
       "        <td id=\"T_eab3ee26_d39f_11e8_8b91_94e979ea5698row2_col0\" class=\"data row2 col0\" >-0.035</td> \n",
       "        <td id=\"T_eab3ee26_d39f_11e8_8b91_94e979ea5698row2_col1\" class=\"data row2 col1\" >-0.34</td> \n",
       "        <td id=\"T_eab3ee26_d39f_11e8_8b91_94e979ea5698row2_col2\" class=\"data row2 col2\" >1</td> \n",
       "        <td id=\"T_eab3ee26_d39f_11e8_8b91_94e979ea5698row2_col3\" class=\"data row2 col3\" >-0.37</td> \n",
       "        <td id=\"T_eab3ee26_d39f_11e8_8b91_94e979ea5698row2_col4\" class=\"data row2 col4\" >0.083</td> \n",
       "        <td id=\"T_eab3ee26_d39f_11e8_8b91_94e979ea5698row2_col5\" class=\"data row2 col5\" >0.018</td> \n",
       "        <td id=\"T_eab3ee26_d39f_11e8_8b91_94e979ea5698row2_col6\" class=\"data row2 col6\" >-0.55</td> \n",
       "        <td id=\"T_eab3ee26_d39f_11e8_8b91_94e979ea5698row2_col7\" class=\"data row2 col7\" >-0.13</td> \n",
       "        <td id=\"T_eab3ee26_d39f_11e8_8b91_94e979ea5698row2_col8\" class=\"data row2 col8\" >0.13</td> \n",
       "    </tr>    <tr> \n",
       "        <th id=\"T_eab3ee26_d39f_11e8_8b91_94e979ea5698level0_row3\" class=\"row_heading level0 row3\" >Age</th> \n",
       "        <td id=\"T_eab3ee26_d39f_11e8_8b91_94e979ea5698row3_col0\" class=\"data row3 col0\" >0.037</td> \n",
       "        <td id=\"T_eab3ee26_d39f_11e8_8b91_94e979ea5698row3_col1\" class=\"data row3 col1\" >-0.077</td> \n",
       "        <td id=\"T_eab3ee26_d39f_11e8_8b91_94e979ea5698row3_col2\" class=\"data row3 col2\" >-0.37</td> \n",
       "        <td id=\"T_eab3ee26_d39f_11e8_8b91_94e979ea5698row3_col3\" class=\"data row3 col3\" >1</td> \n",
       "        <td id=\"T_eab3ee26_d39f_11e8_8b91_94e979ea5698row3_col4\" class=\"data row3 col4\" >-0.31</td> \n",
       "        <td id=\"T_eab3ee26_d39f_11e8_8b91_94e979ea5698row3_col5\" class=\"data row3 col5\" >-0.19</td> \n",
       "        <td id=\"T_eab3ee26_d39f_11e8_8b91_94e979ea5698row3_col6\" class=\"data row3 col6\" >0.096</td> \n",
       "        <td id=\"T_eab3ee26_d39f_11e8_8b91_94e979ea5698row3_col7\" class=\"data row3 col7\" >-0.093</td> \n",
       "        <td id=\"T_eab3ee26_d39f_11e8_8b91_94e979ea5698row3_col8\" class=\"data row3 col8\" >0.093</td> \n",
       "    </tr>    <tr> \n",
       "        <th id=\"T_eab3ee26_d39f_11e8_8b91_94e979ea5698level0_row4\" class=\"row_heading level0 row4\" >SibSp</th> \n",
       "        <td id=\"T_eab3ee26_d39f_11e8_8b91_94e979ea5698row4_col0\" class=\"data row4 col0\" >-0.058</td> \n",
       "        <td id=\"T_eab3ee26_d39f_11e8_8b91_94e979ea5698row4_col1\" class=\"data row4 col1\" >-0.035</td> \n",
       "        <td id=\"T_eab3ee26_d39f_11e8_8b91_94e979ea5698row4_col2\" class=\"data row4 col2\" >0.083</td> \n",
       "        <td id=\"T_eab3ee26_d39f_11e8_8b91_94e979ea5698row4_col3\" class=\"data row4 col3\" >-0.31</td> \n",
       "        <td id=\"T_eab3ee26_d39f_11e8_8b91_94e979ea5698row4_col4\" class=\"data row4 col4\" >1</td> \n",
       "        <td id=\"T_eab3ee26_d39f_11e8_8b91_94e979ea5698row4_col5\" class=\"data row4 col5\" >0.41</td> \n",
       "        <td id=\"T_eab3ee26_d39f_11e8_8b91_94e979ea5698row4_col6\" class=\"data row4 col6\" >0.16</td> \n",
       "        <td id=\"T_eab3ee26_d39f_11e8_8b91_94e979ea5698row4_col7\" class=\"data row4 col7\" >0.11</td> \n",
       "        <td id=\"T_eab3ee26_d39f_11e8_8b91_94e979ea5698row4_col8\" class=\"data row4 col8\" >-0.11</td> \n",
       "    </tr>    <tr> \n",
       "        <th id=\"T_eab3ee26_d39f_11e8_8b91_94e979ea5698level0_row5\" class=\"row_heading level0 row5\" >Parch</th> \n",
       "        <td id=\"T_eab3ee26_d39f_11e8_8b91_94e979ea5698row5_col0\" class=\"data row5 col0\" >-0.0017</td> \n",
       "        <td id=\"T_eab3ee26_d39f_11e8_8b91_94e979ea5698row5_col1\" class=\"data row5 col1\" >0.082</td> \n",
       "        <td id=\"T_eab3ee26_d39f_11e8_8b91_94e979ea5698row5_col2\" class=\"data row5 col2\" >0.018</td> \n",
       "        <td id=\"T_eab3ee26_d39f_11e8_8b91_94e979ea5698row5_col3\" class=\"data row5 col3\" >-0.19</td> \n",
       "        <td id=\"T_eab3ee26_d39f_11e8_8b91_94e979ea5698row5_col4\" class=\"data row5 col4\" >0.41</td> \n",
       "        <td id=\"T_eab3ee26_d39f_11e8_8b91_94e979ea5698row5_col5\" class=\"data row5 col5\" >1</td> \n",
       "        <td id=\"T_eab3ee26_d39f_11e8_8b91_94e979ea5698row5_col6\" class=\"data row5 col6\" >0.22</td> \n",
       "        <td id=\"T_eab3ee26_d39f_11e8_8b91_94e979ea5698row5_col7\" class=\"data row5 col7\" >0.25</td> \n",
       "        <td id=\"T_eab3ee26_d39f_11e8_8b91_94e979ea5698row5_col8\" class=\"data row5 col8\" >-0.25</td> \n",
       "    </tr>    <tr> \n",
       "        <th id=\"T_eab3ee26_d39f_11e8_8b91_94e979ea5698level0_row6\" class=\"row_heading level0 row6\" >Fare</th> \n",
       "        <td id=\"T_eab3ee26_d39f_11e8_8b91_94e979ea5698row6_col0\" class=\"data row6 col0\" >0.013</td> \n",
       "        <td id=\"T_eab3ee26_d39f_11e8_8b91_94e979ea5698row6_col1\" class=\"data row6 col1\" >0.26</td> \n",
       "        <td id=\"T_eab3ee26_d39f_11e8_8b91_94e979ea5698row6_col2\" class=\"data row6 col2\" >-0.55</td> \n",
       "        <td id=\"T_eab3ee26_d39f_11e8_8b91_94e979ea5698row6_col3\" class=\"data row6 col3\" >0.096</td> \n",
       "        <td id=\"T_eab3ee26_d39f_11e8_8b91_94e979ea5698row6_col4\" class=\"data row6 col4\" >0.16</td> \n",
       "        <td id=\"T_eab3ee26_d39f_11e8_8b91_94e979ea5698row6_col5\" class=\"data row6 col5\" >0.22</td> \n",
       "        <td id=\"T_eab3ee26_d39f_11e8_8b91_94e979ea5698row6_col6\" class=\"data row6 col6\" >1</td> \n",
       "        <td id=\"T_eab3ee26_d39f_11e8_8b91_94e979ea5698row6_col7\" class=\"data row6 col7\" >0.18</td> \n",
       "        <td id=\"T_eab3ee26_d39f_11e8_8b91_94e979ea5698row6_col8\" class=\"data row6 col8\" >-0.18</td> \n",
       "    </tr>    <tr> \n",
       "        <th id=\"T_eab3ee26_d39f_11e8_8b91_94e979ea5698level0_row7\" class=\"row_heading level0 row7\" >Female</th> \n",
       "        <td id=\"T_eab3ee26_d39f_11e8_8b91_94e979ea5698row7_col0\" class=\"data row7 col0\" >-0.043</td> \n",
       "        <td id=\"T_eab3ee26_d39f_11e8_8b91_94e979ea5698row7_col1\" class=\"data row7 col1\" >0.54</td> \n",
       "        <td id=\"T_eab3ee26_d39f_11e8_8b91_94e979ea5698row7_col2\" class=\"data row7 col2\" >-0.13</td> \n",
       "        <td id=\"T_eab3ee26_d39f_11e8_8b91_94e979ea5698row7_col3\" class=\"data row7 col3\" >-0.093</td> \n",
       "        <td id=\"T_eab3ee26_d39f_11e8_8b91_94e979ea5698row7_col4\" class=\"data row7 col4\" >0.11</td> \n",
       "        <td id=\"T_eab3ee26_d39f_11e8_8b91_94e979ea5698row7_col5\" class=\"data row7 col5\" >0.25</td> \n",
       "        <td id=\"T_eab3ee26_d39f_11e8_8b91_94e979ea5698row7_col6\" class=\"data row7 col6\" >0.18</td> \n",
       "        <td id=\"T_eab3ee26_d39f_11e8_8b91_94e979ea5698row7_col7\" class=\"data row7 col7\" >1</td> \n",
       "        <td id=\"T_eab3ee26_d39f_11e8_8b91_94e979ea5698row7_col8\" class=\"data row7 col8\" >-1</td> \n",
       "    </tr>    <tr> \n",
       "        <th id=\"T_eab3ee26_d39f_11e8_8b91_94e979ea5698level0_row8\" class=\"row_heading level0 row8\" >Male</th> \n",
       "        <td id=\"T_eab3ee26_d39f_11e8_8b91_94e979ea5698row8_col0\" class=\"data row8 col0\" >0.043</td> \n",
       "        <td id=\"T_eab3ee26_d39f_11e8_8b91_94e979ea5698row8_col1\" class=\"data row8 col1\" >-0.54</td> \n",
       "        <td id=\"T_eab3ee26_d39f_11e8_8b91_94e979ea5698row8_col2\" class=\"data row8 col2\" >0.13</td> \n",
       "        <td id=\"T_eab3ee26_d39f_11e8_8b91_94e979ea5698row8_col3\" class=\"data row8 col3\" >0.093</td> \n",
       "        <td id=\"T_eab3ee26_d39f_11e8_8b91_94e979ea5698row8_col4\" class=\"data row8 col4\" >-0.11</td> \n",
       "        <td id=\"T_eab3ee26_d39f_11e8_8b91_94e979ea5698row8_col5\" class=\"data row8 col5\" >-0.25</td> \n",
       "        <td id=\"T_eab3ee26_d39f_11e8_8b91_94e979ea5698row8_col6\" class=\"data row8 col6\" >-0.18</td> \n",
       "        <td id=\"T_eab3ee26_d39f_11e8_8b91_94e979ea5698row8_col7\" class=\"data row8 col7\" >-1</td> \n",
       "        <td id=\"T_eab3ee26_d39f_11e8_8b91_94e979ea5698row8_col8\" class=\"data row8 col8\" >1</td> \n",
       "    </tr></tbody> \n",
       "</table> "
      ],
      "text/plain": [
       "<pandas.io.formats.style.Styler at 0x1495f8c2f28>"
      ]
     },
     "execution_count": 420,
     "metadata": {},
     "output_type": "execute_result"
    }
   ],
   "source": [
    "data_train.corr()\n",
    "corr = data_train.corr()\n",
    "corr.style.background_gradient().set_precision(2)"
   ]
  },
  {
   "cell_type": "code",
   "execution_count": 417,
   "metadata": {},
   "outputs": [
    {
     "data": {
      "text/plain": [
       "<matplotlib.axes._subplots.AxesSubplot at 0x1495f89e128>"
      ]
     },
     "execution_count": 417,
     "metadata": {},
     "output_type": "execute_result"
    },
    {
     "data": {
      "image/png": "[encoded data removed]",
      "text/plain": [
       "<Figure size 432x288 with 2 Axes>"
      ]
     },
     "metadata": {
      "needs_background": "light"
     },
     "output_type": "display_data"
    }
   ],
   "source": [
    "import seaborn as sns\n",
    "corr = data_train.corr()\n",
    "sns.heatmap(corr, \n",
    "            xticklabels=corr.columns.values,\n",
    "            yticklabels=corr.columns.values)\n"
   ]
  },
  {
   "cell_type": "code",
   "execution_count": 419,
   "metadata": {},
   "outputs": [
    {
     "data": {
      "text/plain": [
       "<matplotlib.image.AxesImage at 0x1495fa21470>"
      ]
     },
     "execution_count": 419,
     "metadata": {},
     "output_type": "execute_result"
    },
    {
     "data": {
      "image/png": "[encoded data removed]",
      "text/plain": [
       "<Figure size 288x288 with 1 Axes>"
      ]
     },
     "metadata": {
      "needs_background": "light"
     },
     "output_type": "display_data"
    }
   ],
   "source": [
    "import matplotlib.pyplot as plt\n",
    "\n",
    "plt.matshow(data_train.corr())"
   ]
  },
  {
   "cell_type": "code",
   "execution_count": 423,
   "metadata": {},
   "outputs": [],
   "source": [
    "from sklearn.linear_model import LogisticRegression\n",
    "logreg = LogisticRegression()\n",
    "logreg.fit(X_train, y_train)\n",
    "Y_pred = logreg.predict(X_test)"
   ]
  },
  {
   "cell_type": "code",
   "execution_count": 424,
   "metadata": {},
   "outputs": [
    {
     "data": {
      "text/plain": [
       "array([1, 0, 1, 1, 1, 0, 0, 1, 0, 1, 0, 1, 0, 0, 1, 0, 0, 0, 0, 1, 0, 0,\n",
       "       1, 0, 1, 0, 1, 1, 0, 1, 1, 0, 0, 1, 0, 0, 0, 0, 0, 0, 1, 1, 1, 0,\n",
       "       1, 0, 0, 0, 1, 0, 0, 1, 0, 0, 0, 1, 0, 0, 0, 1, 0, 0, 0, 0, 0, 1,\n",
       "       0, 0, 1, 0, 0, 0, 0, 0, 1, 0, 1, 0, 0, 1, 0, 0, 0, 0, 1, 0, 0, 0,\n",
       "       1, 1, 0, 0, 0, 1, 0, 0, 0, 1, 0, 0, 1, 0, 0, 1, 1, 0, 0, 0, 0, 0,\n",
       "       0, 0, 0, 0, 0, 0, 0, 0, 1, 1, 1, 0, 0, 0, 1, 1, 1, 1, 0, 0, 0, 0,\n",
       "       1, 1, 0, 1, 1, 0, 0, 1, 1, 0, 1, 1, 0, 1, 0, 0, 1, 0, 1, 0, 0, 1,\n",
       "       0, 0, 0, 0, 1, 0, 0, 0, 1, 0, 0, 1, 1, 0, 0, 0, 1, 0, 1, 0, 1, 1,\n",
       "       0, 0, 1, 0, 1, 1, 0, 0, 1, 0, 0, 1, 0, 1, 0, 0, 1, 1, 1, 1, 0, 1,\n",
       "       0, 0, 0, 1, 0, 0, 0, 1, 1, 0, 0, 0, 1, 0, 0, 0, 0, 0, 0, 1, 1, 0,\n",
       "       1, 0, 0], dtype=int64)"
      ]
     },
     "execution_count": 424,
     "metadata": {},
     "output_type": "execute_result"
    }
   ],
   "source": [
    "Y_pred"
   ]
  },
  {
   "cell_type": "code",
   "execution_count": 425,
   "metadata": {},
   "outputs": [],
   "source": [
    "accuracy_log = 1 - mean_absolute_error(Y_pred, y_test)"
   ]
  },
  {
   "cell_type": "code",
   "execution_count": 427,
   "metadata": {},
   "outputs": [
    {
     "data": {
      "text/plain": [
       "0.7982062780269058"
      ]
     },
     "execution_count": 427,
     "metadata": {},
     "output_type": "execute_result"
    }
   ],
   "source": [
    "accuracy_log"
   ]
  },
  {
   "cell_type": "code",
   "execution_count": 428,
   "metadata": {},
   "outputs": [
    {
     "name": "stdout",
     "output_type": "stream",
     "text": [
      "0.7982062780269058\n"
     ]
    }
   ],
   "source": [
    "print(logreg.score(X_test, y_test))"
   ]
  },
  {
   "cell_type": "code",
   "execution_count": 442,
   "metadata": {},
   "outputs": [
    {
     "name": "stdout",
     "output_type": "stream",
     "text": [
      "[0.70588235 0.71641791 0.8358209  0.73134328 0.88059701 0.89552239\n",
      " 0.7761194  0.8030303  0.8030303  0.8030303 ]\n"
     ]
    }
   ],
   "source": [
    "from sklearn.model_selection import cross_val_score\n",
    "cv_log_results = cross_val_score(logreg, X_train, y_train, cv = 10)\n",
    "print(cv_log_results)"
   ]
  },
  {
   "cell_type": "code",
   "execution_count": 432,
   "metadata": {},
   "outputs": [
    {
     "name": "stdout",
     "output_type": "stream",
     "text": [
      "[-0.01772152  0.01866289  0.01866289 -0.09670165 -0.29060266]\n"
     ]
    }
   ],
   "source": [
    "cv_dtr_results = cross_val_score(titanic_model, X_train, y_train, cv = 5)\n",
    "print(cv_dtr_results)"
   ]
  },
  {
   "cell_type": "code",
   "execution_count": 450,
   "metadata": {},
   "outputs": [
    {
     "data": {
      "text/plain": [
       "Lasso(alpha=0.1, copy_X=True, fit_intercept=True, max_iter=1000,\n",
       "   normalize=True, positive=False, precompute=False, random_state=None,\n",
       "   selection='cyclic', tol=0.0001, warm_start=False)"
      ]
     },
     "execution_count": 450,
     "metadata": {},
     "output_type": "execute_result"
    }
   ],
   "source": [
    "from sklearn.linear_model import Lasso\n",
    "lasso = Lasso(alpha=0.1, normalize = True)\n",
    "lasso.fit(X_train,y_train)"
   ]
  },
  {
   "cell_type": "code",
   "execution_count": 451,
   "metadata": {},
   "outputs": [
    {
     "name": "stdout",
     "output_type": "stream",
     "text": [
      "[ 0. -0. -0. -0.  0.  0.  0. -0.]\n"
     ]
    }
   ],
   "source": [
    "# Compute and print the coefficients\n",
    "lasso_coef = lasso.coef_\n",
    "print(lasso_coef)"
   ]
  },
  {
   "cell_type": "code",
   "execution_count": 456,
   "metadata": {},
   "outputs": [
    {
     "data": {
      "text/plain": [
       "(668, 8)"
      ]
     },
     "execution_count": 456,
     "metadata": {},
     "output_type": "execute_result"
    }
   ],
   "source": [
    "X_train.shape"
   ]
  },
  {
   "cell_type": "code",
   "execution_count": 455,
   "metadata": {},
   "outputs": [
    {
     "data": {
      "text/plain": [
       "[<matplotlib.lines.Line2D at 0x1495fa4fa20>]"
      ]
     },
     "execution_count": 455,
     "metadata": {},
     "output_type": "execute_result"
    },
    {
     "data": {
      "image/png": "[encoded data removed]",
      "text/plain": [
       "<Figure size 432x288 with 1 Axes>"
      ]
     },
     "metadata": {
      "needs_background": "light"
     },
     "output_type": "display_data"
    }
   ],
   "source": [
    "plt.plot(range(len(X_train.columns)), lasso_coef)"
   ]
  },
  {
   "cell_type": "code",
   "execution_count": null,
   "metadata": {},
   "outputs": [],
   "source": []
  }
 ],
 "metadata": {
  "kernelspec": {
   "display_name": "Python 3",
   "language": "python",
   "name": "python3"
  },
  "language_info": {
   "codemirror_mode": {
    "name": "ipython",
    "version": 3
   },
   "file_extension": ".py",
   "mimetype": "text/x-python",
   "name": "python",
   "nbconvert_exporter": "python",
   "pygments_lexer": "ipython3",
   "version": "3.7.0"
  }
 },
 "nbformat": 4,
 "nbformat_minor": 2
}
