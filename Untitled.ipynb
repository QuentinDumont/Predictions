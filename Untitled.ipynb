{
 "cells": [
  {
   "cell_type": "code",
   "execution_count": 2,
   "metadata": {},
   "outputs": [],
   "source": [
    "import django"
   ]
  },
  {
   "cell_type": "code",
   "execution_count": 5,
   "metadata": {},
   "outputs": [
    {
     "name": "stdout",
     "output_type": "stream",
     "text": [
      "Help on package django:\n",
      "\n",
      "NAME\n",
      "    django\n",
      "\n",
      "PACKAGE CONTENTS\n",
      "    __main__\n",
      "    apps (package)\n",
      "    conf (package)\n",
      "    contrib (package)\n",
      "    core (package)\n",
      "    db (package)\n",
      "    dispatch (package)\n",
      "    forms (package)\n",
      "    http (package)\n",
      "    middleware (package)\n",
      "    shortcuts\n",
      "    template (package)\n",
      "    templatetags (package)\n",
      "    test (package)\n",
      "    urls (package)\n",
      "    utils (package)\n",
      "    views (package)\n",
      "\n",
      "FUNCTIONS\n",
      "    setup(set_prefix=True)\n",
      "        Configure the settings (this happens as a side effect of accessing the\n",
      "        first setting), configure logging and populate the app registry.\n",
      "        Set the thread-local urlresolvers script prefix if `set_prefix` is True.\n",
      "\n",
      "DATA\n",
      "    VERSION = (2, 1, 0, 'final', 0)\n",
      "\n",
      "VERSION\n",
      "    2.1\n",
      "\n",
      "FILE\n",
      "    c:\\users\\quentin\\anaconda3\\lib\\site-packages\\django\\__init__.py\n",
      "\n",
      "\n",
      "None\n"
     ]
    }
   ],
   "source": [
    "print (help(django))"
   ]
  },
  {
   "cell_type": "code",
   "execution_count": null,
   "metadata": {
    "collapsed": true
   },
   "outputs": [],
   "source": []
  }
 ],
 "metadata": {
  "kernelspec": {
   "display_name": "Python 3",
   "language": "python",
   "name": "python3"
  },
  "language_info": {
   "codemirror_mode": {
    "name": "ipython",
    "version": 3
   },
   "file_extension": ".py",
   "mimetype": "text/x-python",
   "name": "python",
   "nbconvert_exporter": "python",
   "pygments_lexer": "ipython3",
   "version": "3.6.2"
  }
 },
 "nbformat": 4,
 "nbformat_minor": 2
}
